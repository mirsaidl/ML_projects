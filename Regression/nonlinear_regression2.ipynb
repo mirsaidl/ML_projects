{
 "cells": [
  {
   "cell_type": "code",
   "execution_count": 1,
   "metadata": {},
   "outputs": [],
   "source": [
    "import pandas as pd\n",
    "import numpy as np\n",
    "import matplotlib.pyplot as plt\n",
    "import seaborn as sns"
   ]
  },
  {
   "cell_type": "code",
   "execution_count": 2,
   "metadata": {},
   "outputs": [
    {
     "data": {
      "text/html": [
       "<div>\n",
       "<style scoped>\n",
       "    .dataframe tbody tr th:only-of-type {\n",
       "        vertical-align: middle;\n",
       "    }\n",
       "\n",
       "    .dataframe tbody tr th {\n",
       "        vertical-align: top;\n",
       "    }\n",
       "\n",
       "    .dataframe thead th {\n",
       "        text-align: right;\n",
       "    }\n",
       "</style>\n",
       "<table border=\"1\" class=\"dataframe\">\n",
       "  <thead>\n",
       "    <tr style=\"text-align: right;\">\n",
       "      <th></th>\n",
       "      <th>Year</th>\n",
       "      <th>Value</th>\n",
       "    </tr>\n",
       "  </thead>\n",
       "  <tbody>\n",
       "    <tr>\n",
       "      <th>0</th>\n",
       "      <td>1960</td>\n",
       "      <td>5.918412e+10</td>\n",
       "    </tr>\n",
       "    <tr>\n",
       "      <th>1</th>\n",
       "      <td>1961</td>\n",
       "      <td>4.955705e+10</td>\n",
       "    </tr>\n",
       "    <tr>\n",
       "      <th>2</th>\n",
       "      <td>1962</td>\n",
       "      <td>4.668518e+10</td>\n",
       "    </tr>\n",
       "    <tr>\n",
       "      <th>3</th>\n",
       "      <td>1963</td>\n",
       "      <td>5.009730e+10</td>\n",
       "    </tr>\n",
       "    <tr>\n",
       "      <th>4</th>\n",
       "      <td>1964</td>\n",
       "      <td>5.906225e+10</td>\n",
       "    </tr>\n",
       "    <tr>\n",
       "      <th>5</th>\n",
       "      <td>1965</td>\n",
       "      <td>6.970915e+10</td>\n",
       "    </tr>\n",
       "    <tr>\n",
       "      <th>6</th>\n",
       "      <td>1966</td>\n",
       "      <td>7.587943e+10</td>\n",
       "    </tr>\n",
       "    <tr>\n",
       "      <th>7</th>\n",
       "      <td>1967</td>\n",
       "      <td>7.205703e+10</td>\n",
       "    </tr>\n",
       "    <tr>\n",
       "      <th>8</th>\n",
       "      <td>1968</td>\n",
       "      <td>6.999350e+10</td>\n",
       "    </tr>\n",
       "    <tr>\n",
       "      <th>9</th>\n",
       "      <td>1969</td>\n",
       "      <td>7.871882e+10</td>\n",
       "    </tr>\n",
       "  </tbody>\n",
       "</table>\n",
       "</div>"
      ],
      "text/plain": [
       "   Year         Value\n",
       "0  1960  5.918412e+10\n",
       "1  1961  4.955705e+10\n",
       "2  1962  4.668518e+10\n",
       "3  1963  5.009730e+10\n",
       "4  1964  5.906225e+10\n",
       "5  1965  6.970915e+10\n",
       "6  1966  7.587943e+10\n",
       "7  1967  7.205703e+10\n",
       "8  1968  6.999350e+10\n",
       "9  1969  7.871882e+10"
      ]
     },
     "execution_count": 2,
     "metadata": {},
     "output_type": "execute_result"
    }
   ],
   "source": [
    "# Polynomial Regression\n",
    "\n",
    "url=\"https://cf-courses-data.s3.us.cloud-object-storage.appdomain.cloud/IBMDeveloperSkillsNetwork-ML0101EN-SkillsNetwork/labs/Module%202/data/china_gdp.csv\"\n",
    "   \n",
    "df = pd.read_csv(url)\n",
    "df.head(10)"
   ]
  },
  {
   "cell_type": "code",
   "execution_count": 3,
   "metadata": {},
   "outputs": [
    {
     "data": {
      "image/png": "[encoded data removed]",
      "text/plain": [
       "<Figure size 576x360 with 1 Axes>"
      ]
     },
     "metadata": {
      "needs_background": "light"
     },
     "output_type": "display_data"
    }
   ],
   "source": [
    "plt.figure(figsize=(8,5))\n",
    "x_data, y_data = (df.Year.values, df.Value.values)\n",
    "plt.plot(x_data,y_data, 'ro')\n",
    "plt.ylabel('GDP')\n",
    "plt.xlabel('Year')\n",
    "plt.show()"
   ]
  },
  {
   "cell_type": "code",
   "execution_count": 4,
   "metadata": {},
   "outputs": [],
   "source": [
    "x = np.asanyarray(df[['Year']]/df.Year.max())\n",
    "y = np.asanyarray(df[['Value']]/df.Value.max())"
   ]
  },
  {
   "cell_type": "code",
   "execution_count": 5,
   "metadata": {},
   "outputs": [
    {
     "data": {
      "text/plain": [
       "LinearRegression(copy_X=True, fit_intercept=True, n_jobs=1, normalize=False)"
      ]
     },
     "execution_count": 5,
     "metadata": {},
     "output_type": "execute_result"
    }
   ],
   "source": [
    "# Linear Regression\n",
    "\n",
    "from sklearn.linear_model import LinearRegression\n",
    "\n",
    "model = LinearRegression()\n",
    "model.fit(x,y)"
   ]
  },
  {
   "cell_type": "code",
   "execution_count": 6,
   "metadata": {},
   "outputs": [],
   "source": [
    "y_predict = model.predict(x)"
   ]
  },
  {
   "cell_type": "code",
   "execution_count": 8,
   "metadata": {},
   "outputs": [
    {
     "data": {
      "image/png": "[encoded data removed]",
      "text/plain": [
       "<Figure size 720x432 with 1 Axes>"
      ]
     },
     "metadata": {
      "needs_background": "light"
     },
     "output_type": "display_data"
    }
   ],
   "source": [
    "plt.figure(figsize=(10,6))\n",
    "plt.plot(x,y, 'ro', label='data')\n",
    "plt.plot(x,y_predict, linewidth=3.0, label='fit')\n",
    "plt.show()"
   ]
  },
  {
   "cell_type": "code",
   "execution_count": 10,
   "metadata": {},
   "outputs": [
    {
     "name": "stdout",
     "output_type": "stream",
     "text": [
      "MAE: 0.12657979406214742\n"
     ]
    }
   ],
   "source": [
    "from sklearn.metrics import mean_absolute_error\n",
    "\n",
    "print(\"MAE:\", mean_absolute_error(y_predict, y))"
   ]
  },
  {
   "cell_type": "code",
   "execution_count": 11,
   "metadata": {},
   "outputs": [
    {
     "data": {
      "text/plain": [
       "array([0.97318769])"
      ]
     },
     "execution_count": 11,
     "metadata": {},
     "output_type": "execute_result"
    }
   ],
   "source": [
    "x[0]"
   ]
  },
  {
   "cell_type": "code",
   "execution_count": 29,
   "metadata": {},
   "outputs": [
    {
     "data": {
      "text/plain": [
       "array([[0.97318769, 0.94709427, 0.92170048, 0.89698756, 0.87293725,\n",
       "        0.84953178, 0.82675387, 0.80458668, 0.78301385, 0.76201944],\n",
       "       [0.97368421, 0.94806094, 0.92311197, 0.89881955, 0.8751664 ,\n",
       "        0.85213571, 0.82971108, 0.80787658, 0.78661667, 0.76591623],\n",
       "       [0.97418073, 0.9490281 , 0.9245249 , 0.90065434, 0.87740011,\n",
       "        0.85474628, 0.83267736, 0.81117824, 0.79023422, 0.76983095],\n",
       "       [0.97467726, 0.94999576, 0.92593926, 0.90249194, 0.87963837,\n",
       "        0.85736352, 0.83565272, 0.81449171, 0.79386655, 0.77376367],\n",
       "       [0.97517378, 0.95096391, 0.92735507, 0.90433235, 0.8818812 ,\n",
       "        0.85998743, 0.8386372 , 0.81781701, 0.79751371, 0.77771446],\n",
       "       [0.97567031, 0.95193255, 0.92877232, 0.90617558, 0.88412861,\n",
       "        0.86261803, 0.8416308 , 0.82115418, 0.80117575, 0.78168339],\n",
       "       [0.97616683, 0.95290168, 0.93019102, 0.90802162, 0.88638059,\n",
       "        0.86525533, 0.84463356, 0.82450326, 0.80485274, 0.78567055],\n",
       "       [0.97666336, 0.95387131, 0.93161116, 0.90987048, 0.88863716,\n",
       "        0.86789935, 0.84764549, 0.82786429, 0.80854472, 0.789676  ],\n",
       "       [0.97715988, 0.95484143, 0.93303274, 0.91172216, 0.89089832,\n",
       "        0.8705501 , 0.85066663, 0.8312373 , 0.81225174, 0.79369981],\n",
       "       [0.97765641, 0.95581205, 0.93445577, 0.91357667, 0.89316408,\n",
       "        0.87320759, 0.85369699, 0.83462233, 0.81597387, 0.79774208],\n",
       "       [0.97815293, 0.95678315, 0.93588024, 0.915434  , 0.89543445,\n",
       "        0.87587183, 0.8567366 , 0.83801941, 0.81971114, 0.80180286],\n",
       "       [0.97864945, 0.95775475, 0.93730617, 0.91729417, 0.89770944,\n",
       "        0.87854285, 0.85978548, 0.84142859, 0.82346363, 0.80588223],\n",
       "       [0.97914598, 0.95872685, 0.93873354, 0.91915717, 0.89998904,\n",
       "        0.88122065, 0.86284366, 0.8448499 , 0.82723138, 0.80998028],\n",
       "       [0.9796425 , 0.95969943, 0.94016235, 0.921023  , 0.90227328,\n",
       "        0.88390525, 0.86591115, 0.84828337, 0.83101444, 0.81409707],\n",
       "       [0.98013903, 0.96067251, 0.94159262, 0.92289168, 0.90456215,\n",
       "        0.88659666, 0.86898799, 0.85172904, 0.83481288, 0.81823268],\n",
       "       [0.98063555, 0.96164608, 0.94302434, 0.92476319, 0.90685566,\n",
       "        0.8892949 , 0.8720742 , 0.85518696, 0.83862674, 0.82238719],\n",
       "       [0.98113208, 0.96262015, 0.94445751, 0.92663755, 0.90915382,\n",
       "        0.89199998, 0.87516979, 0.85865715, 0.84245607, 0.82656068],\n",
       "       [0.9816286 , 0.96359471, 0.94589212, 0.92851476, 0.91145664,\n",
       "        0.89471191, 0.8782748 , 0.86213966, 0.84630095, 0.83075322],\n",
       "       [0.98212512, 0.96456976, 0.94732819, 0.93039482, 0.91376413,\n",
       "        0.89743071, 0.88138925, 0.86563452, 0.85016141, 0.83496488],\n",
       "       [0.98262165, 0.9655453 , 0.94876572, 0.93227773, 0.91607628,\n",
       "        0.90015639, 0.88451315, 0.86914177, 0.85403752, 0.83919576],\n",
       "       [0.98311817, 0.96652134, 0.9502047 , 0.9341635 , 0.91839312,\n",
       "        0.90288896, 0.88764655, 0.87266145, 0.85792933, 0.84344592],\n",
       "       [0.9836147 , 0.96749787, 0.95164513, 0.93605213, 0.92071464,\n",
       "        0.90562845, 0.89078945, 0.8761936 , 0.8618369 , 0.84771544],\n",
       "       [0.98411122, 0.9684749 , 0.95308701, 0.93794362, 0.92304085,\n",
       "        0.90837485, 0.89394189, 0.87973824, 0.86576028, 0.8520044 ],\n",
       "       [0.98460775, 0.96945241, 0.95453036, 0.93983798, 0.92537176,\n",
       "        0.9111282 , 0.89710388, 0.88329543, 0.86969952, 0.85631289],\n",
       "       [0.98510427, 0.97043042, 0.95597515, 0.94173521, 0.92770737,\n",
       "        0.91388849, 0.90027546, 0.8868652 , 0.87365469, 0.86064097],\n",
       "       [0.98560079, 0.97140893, 0.95742141, 0.9436353 , 0.9300477 ,\n",
       "        0.91665575, 0.90345664, 0.89044758, 0.87762584, 0.86498873],\n",
       "       [0.98609732, 0.97238792, 0.95886912, 0.94553827, 0.93239275,\n",
       "        0.91942999, 0.90664745, 0.89404262, 0.88161303, 0.86935625],\n",
       "       [0.98659384, 0.97336741, 0.9603183 , 0.94744412, 0.93474253,\n",
       "        0.92221123, 0.90984792, 0.89765036, 0.88561631, 0.8737436 ],\n",
       "       [0.98709037, 0.97434739, 0.96176893, 0.94935284, 0.93709705,\n",
       "        0.92499947, 0.91305806, 0.90127082, 0.88963575, 0.87815088],\n",
       "       [0.98758689, 0.97532787, 0.96322102, 0.95126445, 0.9394563 ,\n",
       "        0.92779473, 0.91627791, 0.90490406, 0.89367138, 0.88257815],\n",
       "       [0.98808342, 0.97630884, 0.96467457, 0.95317895, 0.94182031,\n",
       "        0.93059703, 0.91950749, 0.9085501 , 0.89772329, 0.88702549],\n",
       "       [0.98857994, 0.9772903 , 0.96612959, 0.95509633, 0.94418907,\n",
       "        0.93340638, 0.92274682, 0.912209  , 0.90179151, 0.891493  ],\n",
       "       [0.98907646, 0.97827225, 0.96758606, 0.9570166 , 0.9465626 ,\n",
       "        0.93622279, 0.92599592, 0.91588078, 0.90587612, 0.89598075],\n",
       "       [0.98957299, 0.9792547 , 0.969044  , 0.95893977, 0.94894089,\n",
       "        0.93904628, 0.92925483, 0.91956548, 0.90997716, 0.90048882],\n",
       "       [0.99006951, 0.98023764, 0.9705034 , 0.96086583, 0.95132397,\n",
       "        0.94187686, 0.93252356, 0.92326315, 0.9140947 , 0.90501729],\n",
       "       [0.99056604, 0.98122108, 0.97196427, 0.9627948 , 0.95371183,\n",
       "        0.94471455, 0.93580215, 0.92697382, 0.91822879, 0.90956625],\n",
       "       [0.99106256, 0.982205  , 0.97342661, 0.96472667, 0.95610448,\n",
       "        0.94755936, 0.9390906 , 0.93069754, 0.92237949, 0.91413578],\n",
       "       [0.99155909, 0.98318942, 0.9748904 , 0.96666144, 0.95850193,\n",
       "        0.9504113 , 0.94238896, 0.93443434, 0.92654686, 0.91872596],\n",
       "       [0.99205561, 0.98417433, 0.97635567, 0.96859912, 0.96090419,\n",
       "        0.9532704 , 0.94569724, 0.93818426, 0.93073096, 0.92333687],\n",
       "       [0.99255214, 0.98515974, 0.9778224 , 0.97053971, 0.96331127,\n",
       "        0.95613665, 0.94901548, 0.94194734, 0.93493184, 0.9279686 ],\n",
       "       [0.99304866, 0.98614564, 0.97929061, 0.97248322, 0.96572316,\n",
       "        0.95901009, 0.95234368, 0.94572362, 0.93914957, 0.93262122],\n",
       "       [0.99354518, 0.98713203, 0.98076028, 0.97442965, 0.96813988,\n",
       "        0.96189072, 0.95568189, 0.94951314, 0.94338421, 0.93729484],\n",
       "       [0.99404171, 0.98811892, 0.98223142, 0.97637899, 0.97056144,\n",
       "        0.96477856, 0.95903012, 0.95331594, 0.94763581, 0.94198952],\n",
       "       [0.99453823, 0.9891063 , 0.98370403, 0.97833126, 0.97298785,\n",
       "        0.96767361, 0.9623884 , 0.95713206, 0.95190443, 0.94670535],\n",
       "       [0.99503476, 0.99009417, 0.98517811, 0.98028646, 0.9754191 ,\n",
       "        0.97057591, 0.96575676, 0.96096154, 0.95619014, 0.95144242],\n",
       "       [0.99553128, 0.99108253, 0.98665366, 0.98224458, 0.97785521,\n",
       "        0.97348545, 0.96913522, 0.96480442, 0.96049298, 0.95620081],\n",
       "       [0.99602781, 0.99207139, 0.98813069, 0.98420564, 0.98029618,\n",
       "        0.97640226, 0.9725238 , 0.96866074, 0.96481303, 0.96098061],\n",
       "       [0.99652433, 0.99306074, 0.98960919, 0.98616963, 0.98274203,\n",
       "        0.97932634, 0.97592253, 0.97253054, 0.96915035, 0.9657819 ],\n",
       "       [0.99702085, 0.99405058, 0.99108916, 0.98813656, 0.98519276,\n",
       "        0.98225773, 0.97933144, 0.97641387, 0.97350499, 0.97060477],\n",
       "       [0.99751738, 0.99504092, 0.99257061, 0.99010643, 0.98764837,\n",
       "        0.98519642, 0.98275055, 0.98031075, 0.97787701, 0.97544931],\n",
       "       [0.9980139 , 0.99603175, 0.99405353, 0.99207925, 0.99010888,\n",
       "        0.98814243, 0.98617988, 0.98422123, 0.98226647, 0.9803156 ],\n",
       "       [0.99851043, 0.99702307, 0.99553793, 0.99405501, 0.99257429,\n",
       "        0.99109578, 0.98961947, 0.98814536, 0.98667344, 0.98520372],\n",
       "       [0.99900695, 0.99801489, 0.99702381, 0.99603372, 0.99504461,\n",
       "        0.99405648, 0.99306933, 0.99208317, 0.99109798, 0.99011377],\n",
       "       [0.99950348, 0.9990072 , 0.99851117, 0.99801538, 0.99751984,\n",
       "        0.99702455, 0.9965295 , 0.9960347 , 0.99554015, 0.99504584],\n",
       "       [1.        , 1.        , 1.        , 1.        , 1.        ,\n",
       "        1.        , 1.        , 1.        , 1.        , 1.        ]])"
      ]
     },
     "execution_count": 29,
     "metadata": {},
     "output_type": "execute_result"
    }
   ],
   "source": [
    "# polynomial regression\n",
    "from sklearn.preprocessing import PolynomialFeatures\n",
    "\n",
    "poly_features = PolynomialFeatures(degree=10, include_bias=False)\n",
    "x_poly = poly_features.fit_transform(x)\n",
    "x_poly"
   ]
  },
  {
   "cell_type": "code",
   "execution_count": 30,
   "metadata": {},
   "outputs": [
    {
     "data": {
      "text/plain": [
       "LinearRegression(copy_X=True, fit_intercept=True, n_jobs=1, normalize=False)"
      ]
     },
     "execution_count": 30,
     "metadata": {},
     "output_type": "execute_result"
    }
   ],
   "source": [
    "model.fit(x_poly, y)"
   ]
  },
  {
   "cell_type": "code",
   "execution_count": 31,
   "metadata": {},
   "outputs": [],
   "source": [
    "y_predict = model.predict(x_poly)"
   ]
  },
  {
   "cell_type": "code",
   "execution_count": 32,
   "metadata": {},
   "outputs": [
    {
     "data": {
      "image/png": "[encoded data removed]",
      "text/plain": [
       "<Figure size 720x432 with 1 Axes>"
      ]
     },
     "metadata": {
      "needs_background": "light"
     },
     "output_type": "display_data"
    }
   ],
   "source": [
    "plt.figure(figsize=(10,6))\n",
    "plt.plot(x, y, 'ro', label='data')\n",
    "plt.plot(x,y_predict, linewidth=4.0, label='fit')\n",
    "plt.show()"
   ]
  },
  {
   "cell_type": "code",
   "execution_count": 33,
   "metadata": {},
   "outputs": [
    {
     "name": "stdout",
     "output_type": "stream",
     "text": [
      "MAE: 0.009931725496476935\n"
     ]
    }
   ],
   "source": [
    "print(\"MAE:\", mean_absolute_error(y_predict,y))"
   ]
  },
  {
   "cell_type": "markdown",
   "metadata": {},
   "source": [
    "# Curve fit"
   ]
  },
  {
   "cell_type": "code",
   "execution_count": 34,
   "metadata": {},
   "outputs": [],
   "source": [
    "# logistic regression\n",
    "x_data, y_data = (df[\"Year\"].values, df[\"Value\"].values)\n",
    "xdata =x_data/max(x_data)\n",
    "ydata =y_data/max(y_data)"
   ]
  },
  {
   "cell_type": "code",
   "execution_count": 35,
   "metadata": {},
   "outputs": [],
   "source": [
    "def sigmoid(x, beta1, beta2):\n",
    "    y = 1/(1+np.exp(-beta1 * (x - beta2)))\n",
    "    return y"
   ]
  },
  {
   "cell_type": "code",
   "execution_count": 36,
   "metadata": {},
   "outputs": [
    {
     "name": "stdout",
     "output_type": "stream",
     "text": [
      "beta1=690.4517103750413\n",
      "beta2=0.9972071272527439\n"
     ]
    }
   ],
   "source": [
    "from scipy.optimize import curve_fit\n",
    "\n",
    "beta, pcov = curve_fit(sigmoid, xdata, ydata)\n",
    "print(f\"beta1={beta[0]}\\nbeta2={beta[1]}\")"
   ]
  },
  {
   "cell_type": "code",
   "execution_count": 37,
   "metadata": {},
   "outputs": [
    {
     "data": {
      "image/png": "[encoded data removed]",
      "text/plain": [
       "<Figure size 576x360 with 1 Axes>"
      ]
     },
     "metadata": {
      "needs_background": "light"
     },
     "output_type": "display_data"
    }
   ],
   "source": [
    "x = np.linspace(1960, 2015, 55)\n",
    "x = x/max(x)\n",
    "plt.figure(figsize=(8,5))\n",
    "yhat = sigmoid(x, beta[0], beta[1])\n",
    "plt.plot(xdata, ydata, 'ro', label='data')\n",
    "plt.plot(x,yhat, linewidth=3.0, label='fit')\n",
    "plt.legend(loc='best')\n",
    "plt.ylabel('GDP')\n",
    "plt.xlabel('Year')\n",
    "plt.show()"
   ]
  },
  {
   "cell_type": "code",
   "execution_count": 38,
   "metadata": {},
   "outputs": [
    {
     "name": "stdout",
     "output_type": "stream",
     "text": [
      "MAE: 0.03049841883042669\n"
     ]
    }
   ],
   "source": [
    "print(\"MAE:\", mean_absolute_error(yhat,ydata))"
   ]
  }
 ],
 "metadata": {
  "kernelspec": {
   "display_name": "Python 3",
   "language": "python",
   "name": "python3"
  },
  "language_info": {
   "codemirror_mode": {
    "name": "ipython",
    "version": 3
   },
   "file_extension": ".py",
   "mimetype": "text/x-python",
   "name": "python",
   "nbconvert_exporter": "python",
   "pygments_lexer": "ipython3",
   "version": "3.7.0"
  }
 },
 "nbformat": 4,
 "nbformat_minor": 2
}
